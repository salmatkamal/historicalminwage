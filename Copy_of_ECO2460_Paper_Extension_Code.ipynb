{
  "nbformat": 4,
  "nbformat_minor": 0,
  "metadata": {
    "colab": {
      "name": "Copy of ECO2460: Paper Extension Code",
      "provenance": [],
      "collapsed_sections": [],
      "include_colab_link": true
    },
    "kernelspec": {
      "name": "python3",
      "display_name": "Python 3"
    },
    "language_info": {
      "name": "python"
    }
  },
  "cells": [
    {
      "cell_type": "markdown",
      "metadata": {
        "id": "view-in-github",
        "colab_type": "text"
      },
      "source": [
        "<a href=\"https://colab.research.google.com/github/salmatkamal/historicalminwage/blob/master/Copy_of_ECO2460_Paper_Extension_Code.ipynb\" target=\"_parent\"><img src=\"https://colab.research.google.com/assets/colab-badge.svg\" alt=\"Open In Colab\"/></a>"
      ]
    },
    {
      "cell_type": "markdown",
      "source": [
        "# **ECO2460: Paper Replication & Extension**\n",
        "\n",
        "**\"Seeing Beyond the Trees: Using Machine Learning to Estimate the Impact of Minimum Wages on Labour Market Outcomes - A Replication and Extension study\"**\n",
        "\n",
        "Code and Output File: Extension\n",
        "\n",
        "* Salma Ahmed (#1008511610)\n",
        "salm.ahmed@mail.utoronto.ca\n",
        "\n",
        "* Maria Sedhom (#1004520191)\n",
        "m.sedhom@mail.utoronto.ca\n",
        "\n",
        "* Shannon Smith (#1008615893) \n",
        "shannonr.smith@mail.utoronto.ca"
      ],
      "metadata": {
        "id": "pF_xj4ShGQmv"
      }
    },
    {
      "cell_type": "markdown",
      "source": [
        "# **Preamble**\n",
        "This file provides the code and output used for the extension analysis.\n",
        "\n",
        "**Sources**\n",
        "This file is influenced by a variety of online sources and Youtube tutorials. I cited all Specifically, the code is adapted from the following blogs/channels:\n",
        "\n",
        "*   Abdullah Al Imran, 2019. https://www.imranabdullah.com/2019-06-01/Drawing-multiple-ROC-Curves-in-a-single-plot\n",
        "*   Ryan Reilly, 2021. https://ryan-reilly.medium.com/gridsearch-pipelines-of-multiple-models-on-multiclass-classification-e9124b6ea2e3\n",
        "* https://machinelearningmastery.com/threshold-moving-for-imbalanced-classification/"
      ],
      "metadata": {
        "id": "-XJ6C6k2G6aM"
      }
    },
    {
      "cell_type": "markdown",
      "source": [
        "#**Data Cleaning**"
      ],
      "metadata": {
        "id": "MhnovWIjHBlL"
      }
    },
    {
      "cell_type": "code",
      "source": [
        "!pip install tabulate"
      ],
      "metadata": {
        "id": "h3PQXw4DSw0L",
        "colab": {
          "base_uri": "https://localhost:8080/"
        },
        "outputId": "9b031123-513e-40e3-aad9-a5f9d82bbacf"
      },
      "execution_count": null,
      "outputs": [
        {
          "output_type": "stream",
          "name": "stdout",
          "text": [
            "Requirement already satisfied: tabulate in /usr/local/lib/python3.7/dist-packages (0.8.9)\n"
          ]
        }
      ]
    },
    {
      "cell_type": "code",
      "execution_count": 72,
      "metadata": {
        "id": "XWYZWcpv9EiX"
      },
      "outputs": [],
      "source": [
        "import pandas as pd\n",
        "import numpy as np\n",
        "import matplotlib.pyplot as plt \n",
        "from tabulate import tabulate"
      ]
    },
    {
      "cell_type": "code",
      "source": [
        "from google.colab import drive #Linking to my google drive, sine I am coding this on Google Colab\n",
        "drive.mount('/content/drive')"
      ],
      "metadata": {
        "colab": {
          "base_uri": "https://localhost:8080/",
          "height": 0
        },
        "id": "JcSF0bl5qGjx",
        "outputId": "20401dcb-a4b6-4da1-b6c4-1be3c1cb9970"
      },
      "execution_count": 73,
      "outputs": [
        {
          "output_type": "stream",
          "name": "stdout",
          "text": [
            "Drive already mounted at /content/drive; to attempt to forcibly remount, call drive.mount(\"/content/drive\", force_remount=True).\n"
          ]
        }
      ]
    },
    {
      "cell_type": "code",
      "source": [
        "def is_data(year, region, f):\n",
        "  curr_minwage = f[year][region]\n",
        "\n",
        "  # check the last 20 quarters\n",
        "  for i in range(5):\n",
        "    check_year = year - 1 - i\n",
        "    if check_year in f and f[check_year][region] != curr_minwage:\n",
        "      return False\n",
        "  \n",
        "  # check next 12 quarters\n",
        "  for j in range(3):\n",
        "    check_year = year + 1 + j\n",
        "    if check_year in f and f[check_year][region] != curr_minwage:\n",
        "      return True\n",
        "    \n",
        "  return False\n",
        "\n",
        "\n",
        "df = pd.read_csv('/content/drive/My Drive/Masters/ECO2460/ECO2460 - Draft Paper/census_nomissing_state.csv')    # import dataset\n",
        "df.head\n",
        "\n",
        "f = {}\n",
        "\n",
        "# First we extract the years and store the corresponding minimum wage for each state\n",
        "# Note: This assumes that the minwage is the same for each region-year instance\n",
        "#     E.g. - Every observation with region 31 will have minwage=3 in the year 1990\n",
        "\n",
        "\n",
        "\n",
        "# https://www.geeksforgeeks.org/different-ways-to-iterate-over-rows-in-pandas-dataframe/\n",
        "for ind in df.index:\n",
        "     year, region, minwage = df['year'][ind], df['region'][ind], df['minwage'][ind]\n",
        "     if year in f:\n",
        "       if not region in f[year]:\n",
        "         f[year][region] = minwage\n",
        "     else:\n",
        "       f[year] = {region:minwage}\n",
        "\n",
        "\n",
        "# Now we'll go through the observations again and using our new dictionary f, we\n",
        "# will place each observation in the full_dataset if appropriate\n",
        "full_dataset = []\n",
        "for index, row in df.iterrows():\n",
        "  year, region = row['year'], row['region']\n",
        "  if is_data(year, region, f):\n",
        "    full_dataset.append(row) # I stored the observation as the whole row, change it to whatever you like (you could store it as a dict even)\n",
        "\n",
        "import random\n",
        "random.shuffle(full_dataset)\n",
        "\n",
        "#print(df.iloc[1, :])\n",
        "\n",
        "#print(\"full_dataset:\", len(full_dataset), full_dataset[0])\n",
        "\n",
        "split = int(len(full_dataset) * (150000 / 469174))\n",
        "\n",
        "#print(split)\n",
        "\n",
        "train_set = full_dataset[:split]\n",
        "test_set = full_dataset[split:]\n",
        "\n",
        "#print(\"train_set:\", len(train_set), train_set[0])\n",
        "#print(\"test_set:\", len(test_set), test_set[0])"
      ],
      "metadata": {
        "id": "Yim_90WfG0rT"
      },
      "execution_count": 75,
      "outputs": []
    },
    {
      "cell_type": "code",
      "source": [
        "df_raw = pd.DataFrame(full_dataset)\n",
        "df = df_raw.reset_index()\n",
        "df = df.dropna()\n",
        "print(df.isnull().sum())\n",
        "df.head()"
      ],
      "metadata": {
        "colab": {
          "base_uri": "https://localhost:8080/",
          "height": 510
        },
        "id": "sgztUzUWHXid",
        "outputId": "a68023fa-abf5-4fb9-d4fd-58eb19f89519"
      },
      "execution_count": 76,
      "outputs": [
        {
          "output_type": "stream",
          "name": "stdout",
          "text": [
            "index             0\n",
            "v1                0\n",
            "year              0\n",
            "statefip          0\n",
            "region            0\n",
            "age               0\n",
            "minwage           0\n",
            "hourwage_final    0\n",
            "gender            0\n",
            "educ2             0\n",
            "hispanic          0\n",
            "race              0\n",
            "marital           0\n",
            "veteran           0\n",
            "mw_indicator      0\n",
            "rural3            0\n",
            "dtype: int64\n"
          ]
        },
        {
          "output_type": "execute_result",
          "data": {
            "text/plain": [
              "    index         v1    year  statefip  region   age  minwage  hourwage_final  \\\n",
              "0  310469  3980029.0  2004.0      36.0    12.0  20.0      5.0        7.500000   \n",
              "1  233466  3283184.0  1989.0      26.0    21.0  55.0      3.0       10.000000   \n",
              "2  127165  1605223.0  2005.0      34.0    12.0  39.0      5.0       30.868422   \n",
              "3  378417  4828117.0  2019.0      39.0    21.0  24.0      9.0       15.000000   \n",
              "4  430341  6450368.0  1992.0       6.0    42.0  34.0      4.0       11.250000   \n",
              "\n",
              "   gender  educ2  hispanic  race  marital  veteran  mw_indicator  rural3  \n",
              "0     0.0    3.0       0.0   1.0      0.0      0.0           0.0     1.0  \n",
              "1     1.0    1.0       0.0   1.0      1.0      0.0           0.0     2.0  \n",
              "2     0.0    4.0       0.0   1.0      1.0      0.0           0.0     3.0  \n",
              "3     1.0    2.0       0.0   1.0      0.0      0.0           0.0     3.0  \n",
              "4     1.0    4.0       0.0   1.0      0.0      0.0           0.0     3.0  "
            ],
            "text/html": [
              "\n",
              "  <div id=\"df-d44d6625-d165-4158-97e4-08712af1695c\">\n",
              "    <div class=\"colab-df-container\">\n",
              "      <div>\n",
              "<style scoped>\n",
              "    .dataframe tbody tr th:only-of-type {\n",
              "        vertical-align: middle;\n",
              "    }\n",
              "\n",
              "    .dataframe tbody tr th {\n",
              "        vertical-align: top;\n",
              "    }\n",
              "\n",
              "    .dataframe thead th {\n",
              "        text-align: right;\n",
              "    }\n",
              "</style>\n",
              "<table border=\"1\" class=\"dataframe\">\n",
              "  <thead>\n",
              "    <tr style=\"text-align: right;\">\n",
              "      <th></th>\n",
              "      <th>index</th>\n",
              "      <th>v1</th>\n",
              "      <th>year</th>\n",
              "      <th>statefip</th>\n",
              "      <th>region</th>\n",
              "      <th>age</th>\n",
              "      <th>minwage</th>\n",
              "      <th>hourwage_final</th>\n",
              "      <th>gender</th>\n",
              "      <th>educ2</th>\n",
              "      <th>hispanic</th>\n",
              "      <th>race</th>\n",
              "      <th>marital</th>\n",
              "      <th>veteran</th>\n",
              "      <th>mw_indicator</th>\n",
              "      <th>rural3</th>\n",
              "    </tr>\n",
              "  </thead>\n",
              "  <tbody>\n",
              "    <tr>\n",
              "      <th>0</th>\n",
              "      <td>310469</td>\n",
              "      <td>3980029.0</td>\n",
              "      <td>2004.0</td>\n",
              "      <td>36.0</td>\n",
              "      <td>12.0</td>\n",
              "      <td>20.0</td>\n",
              "      <td>5.0</td>\n",
              "      <td>7.500000</td>\n",
              "      <td>0.0</td>\n",
              "      <td>3.0</td>\n",
              "      <td>0.0</td>\n",
              "      <td>1.0</td>\n",
              "      <td>0.0</td>\n",
              "      <td>0.0</td>\n",
              "      <td>0.0</td>\n",
              "      <td>1.0</td>\n",
              "    </tr>\n",
              "    <tr>\n",
              "      <th>1</th>\n",
              "      <td>233466</td>\n",
              "      <td>3283184.0</td>\n",
              "      <td>1989.0</td>\n",
              "      <td>26.0</td>\n",
              "      <td>21.0</td>\n",
              "      <td>55.0</td>\n",
              "      <td>3.0</td>\n",
              "      <td>10.000000</td>\n",
              "      <td>1.0</td>\n",
              "      <td>1.0</td>\n",
              "      <td>0.0</td>\n",
              "      <td>1.0</td>\n",
              "      <td>1.0</td>\n",
              "      <td>0.0</td>\n",
              "      <td>0.0</td>\n",
              "      <td>2.0</td>\n",
              "    </tr>\n",
              "    <tr>\n",
              "      <th>2</th>\n",
              "      <td>127165</td>\n",
              "      <td>1605223.0</td>\n",
              "      <td>2005.0</td>\n",
              "      <td>34.0</td>\n",
              "      <td>12.0</td>\n",
              "      <td>39.0</td>\n",
              "      <td>5.0</td>\n",
              "      <td>30.868422</td>\n",
              "      <td>0.0</td>\n",
              "      <td>4.0</td>\n",
              "      <td>0.0</td>\n",
              "      <td>1.0</td>\n",
              "      <td>1.0</td>\n",
              "      <td>0.0</td>\n",
              "      <td>0.0</td>\n",
              "      <td>3.0</td>\n",
              "    </tr>\n",
              "    <tr>\n",
              "      <th>3</th>\n",
              "      <td>378417</td>\n",
              "      <td>4828117.0</td>\n",
              "      <td>2019.0</td>\n",
              "      <td>39.0</td>\n",
              "      <td>21.0</td>\n",
              "      <td>24.0</td>\n",
              "      <td>9.0</td>\n",
              "      <td>15.000000</td>\n",
              "      <td>1.0</td>\n",
              "      <td>2.0</td>\n",
              "      <td>0.0</td>\n",
              "      <td>1.0</td>\n",
              "      <td>0.0</td>\n",
              "      <td>0.0</td>\n",
              "      <td>0.0</td>\n",
              "      <td>3.0</td>\n",
              "    </tr>\n",
              "    <tr>\n",
              "      <th>4</th>\n",
              "      <td>430341</td>\n",
              "      <td>6450368.0</td>\n",
              "      <td>1992.0</td>\n",
              "      <td>6.0</td>\n",
              "      <td>42.0</td>\n",
              "      <td>34.0</td>\n",
              "      <td>4.0</td>\n",
              "      <td>11.250000</td>\n",
              "      <td>1.0</td>\n",
              "      <td>4.0</td>\n",
              "      <td>0.0</td>\n",
              "      <td>1.0</td>\n",
              "      <td>0.0</td>\n",
              "      <td>0.0</td>\n",
              "      <td>0.0</td>\n",
              "      <td>3.0</td>\n",
              "    </tr>\n",
              "  </tbody>\n",
              "</table>\n",
              "</div>\n",
              "      <button class=\"colab-df-convert\" onclick=\"convertToInteractive('df-d44d6625-d165-4158-97e4-08712af1695c')\"\n",
              "              title=\"Convert this dataframe to an interactive table.\"\n",
              "              style=\"display:none;\">\n",
              "        \n",
              "  <svg xmlns=\"http://www.w3.org/2000/svg\" height=\"24px\"viewBox=\"0 0 24 24\"\n",
              "       width=\"24px\">\n",
              "    <path d=\"M0 0h24v24H0V0z\" fill=\"none\"/>\n",
              "    <path d=\"M18.56 5.44l.94 2.06.94-2.06 2.06-.94-2.06-.94-.94-2.06-.94 2.06-2.06.94zm-11 1L8.5 8.5l.94-2.06 2.06-.94-2.06-.94L8.5 2.5l-.94 2.06-2.06.94zm10 10l.94 2.06.94-2.06 2.06-.94-2.06-.94-.94-2.06-.94 2.06-2.06.94z\"/><path d=\"M17.41 7.96l-1.37-1.37c-.4-.4-.92-.59-1.43-.59-.52 0-1.04.2-1.43.59L10.3 9.45l-7.72 7.72c-.78.78-.78 2.05 0 2.83L4 21.41c.39.39.9.59 1.41.59.51 0 1.02-.2 1.41-.59l7.78-7.78 2.81-2.81c.8-.78.8-2.07 0-2.86zM5.41 20L4 18.59l7.72-7.72 1.47 1.35L5.41 20z\"/>\n",
              "  </svg>\n",
              "      </button>\n",
              "      \n",
              "  <style>\n",
              "    .colab-df-container {\n",
              "      display:flex;\n",
              "      flex-wrap:wrap;\n",
              "      gap: 12px;\n",
              "    }\n",
              "\n",
              "    .colab-df-convert {\n",
              "      background-color: #E8F0FE;\n",
              "      border: none;\n",
              "      border-radius: 50%;\n",
              "      cursor: pointer;\n",
              "      display: none;\n",
              "      fill: #1967D2;\n",
              "      height: 32px;\n",
              "      padding: 0 0 0 0;\n",
              "      width: 32px;\n",
              "    }\n",
              "\n",
              "    .colab-df-convert:hover {\n",
              "      background-color: #E2EBFA;\n",
              "      box-shadow: 0px 1px 2px rgba(60, 64, 67, 0.3), 0px 1px 3px 1px rgba(60, 64, 67, 0.15);\n",
              "      fill: #174EA6;\n",
              "    }\n",
              "\n",
              "    [theme=dark] .colab-df-convert {\n",
              "      background-color: #3B4455;\n",
              "      fill: #D2E3FC;\n",
              "    }\n",
              "\n",
              "    [theme=dark] .colab-df-convert:hover {\n",
              "      background-color: #434B5C;\n",
              "      box-shadow: 0px 1px 3px 1px rgba(0, 0, 0, 0.15);\n",
              "      filter: drop-shadow(0px 1px 2px rgba(0, 0, 0, 0.3));\n",
              "      fill: #FFFFFF;\n",
              "    }\n",
              "  </style>\n",
              "\n",
              "      <script>\n",
              "        const buttonEl =\n",
              "          document.querySelector('#df-d44d6625-d165-4158-97e4-08712af1695c button.colab-df-convert');\n",
              "        buttonEl.style.display =\n",
              "          google.colab.kernel.accessAllowed ? 'block' : 'none';\n",
              "\n",
              "        async function convertToInteractive(key) {\n",
              "          const element = document.querySelector('#df-d44d6625-d165-4158-97e4-08712af1695c');\n",
              "          const dataTable =\n",
              "            await google.colab.kernel.invokeFunction('convertToInteractive',\n",
              "                                                     [key], {});\n",
              "          if (!dataTable) return;\n",
              "\n",
              "          const docLinkHtml = 'Like what you see? Visit the ' +\n",
              "            '<a target=\"_blank\" href=https://colab.research.google.com/notebooks/data_table.ipynb>data table notebook</a>'\n",
              "            + ' to learn more about interactive tables.';\n",
              "          element.innerHTML = '';\n",
              "          dataTable['output_type'] = 'display_data';\n",
              "          await google.colab.output.renderOutput(dataTable, element);\n",
              "          const docLink = document.createElement('div');\n",
              "          docLink.innerHTML = docLinkHtml;\n",
              "          element.appendChild(docLink);\n",
              "        }\n",
              "      </script>\n",
              "    </div>\n",
              "  </div>\n",
              "  "
            ]
          },
          "metadata": {},
          "execution_count": 76
        }
      ]
    },
    {
      "cell_type": "code",
      "source": [
        "df['race'] = df['race'].astype('category') # converting dtype to 'float'\n",
        "df['mw_indicator'] = df['mw_indicator'].astype('category')\n",
        "df['veteran'] = df['veteran'].astype('category')\n",
        "df['marital'] = df['marital'].astype('category')\n",
        "df['rural3'] = df['rural3'].astype('category')\n",
        "df['gender'] = df['gender'].astype('category')\n",
        "df['hispanic'] = df['hispanic'].astype('category')\n",
        "df['educ2'] = df['educ2'].astype('category')\n",
        "df.drop(columns= df[df.columns[0:2]], inplace = True) #drop person ID and count\n",
        "df.info()"
      ],
      "metadata": {
        "colab": {
          "base_uri": "https://localhost:8080/",
          "height": 0
        },
        "id": "1SNaRF-VkQR2",
        "outputId": "8d795cc7-5275-4b09-ae48-7a94278f9556"
      },
      "execution_count": 77,
      "outputs": [
        {
          "output_type": "stream",
          "name": "stdout",
          "text": [
            "<class 'pandas.core.frame.DataFrame'>\n",
            "Int64Index: 93711 entries, 0 to 94420\n",
            "Data columns (total 14 columns):\n",
            " #   Column          Non-Null Count  Dtype   \n",
            "---  ------          --------------  -----   \n",
            " 0   year            93711 non-null  float64 \n",
            " 1   statefip        93711 non-null  float64 \n",
            " 2   region          93711 non-null  float64 \n",
            " 3   age             93711 non-null  float64 \n",
            " 4   minwage         93711 non-null  float64 \n",
            " 5   hourwage_final  93711 non-null  float64 \n",
            " 6   gender          93711 non-null  category\n",
            " 7   educ2           93711 non-null  category\n",
            " 8   hispanic        93711 non-null  category\n",
            " 9   race            93711 non-null  category\n",
            " 10  marital         93711 non-null  category\n",
            " 11  veteran         93711 non-null  category\n",
            " 12  mw_indicator    93711 non-null  category\n",
            " 13  rural3          93711 non-null  category\n",
            "dtypes: category(8), float64(6)\n",
            "memory usage: 5.7 MB\n"
          ]
        }
      ]
    },
    {
      "cell_type": "code",
      "source": [
        "df.rename(columns={ df.columns[0]: \"ID\" }, inplace = True)\n",
        "df.head()"
      ],
      "metadata": {
        "colab": {
          "base_uri": "https://localhost:8080/",
          "height": 206
        },
        "id": "mhbRIeS4QwlE",
        "outputId": "5648d788-abdd-4fdd-f57b-458abcbe68a4"
      },
      "execution_count": 78,
      "outputs": [
        {
          "output_type": "execute_result",
          "data": {
            "text/plain": [
              "       ID  statefip  region   age  minwage  hourwage_final gender educ2  \\\n",
              "0  2004.0      36.0    12.0  20.0      5.0        7.500000    0.0   3.0   \n",
              "1  1989.0      26.0    21.0  55.0      3.0       10.000000    1.0   1.0   \n",
              "2  2005.0      34.0    12.0  39.0      5.0       30.868422    0.0   4.0   \n",
              "3  2019.0      39.0    21.0  24.0      9.0       15.000000    1.0   2.0   \n",
              "4  1992.0       6.0    42.0  34.0      4.0       11.250000    1.0   4.0   \n",
              "\n",
              "  hispanic race marital veteran mw_indicator rural3  \n",
              "0      0.0  1.0     0.0     0.0          0.0    1.0  \n",
              "1      0.0  1.0     1.0     0.0          0.0    2.0  \n",
              "2      0.0  1.0     1.0     0.0          0.0    3.0  \n",
              "3      0.0  1.0     0.0     0.0          0.0    3.0  \n",
              "4      0.0  1.0     0.0     0.0          0.0    3.0  "
            ],
            "text/html": [
              "\n",
              "  <div id=\"df-b4bacdd8-c0bd-4406-8016-cbc6d551ceaf\">\n",
              "    <div class=\"colab-df-container\">\n",
              "      <div>\n",
              "<style scoped>\n",
              "    .dataframe tbody tr th:only-of-type {\n",
              "        vertical-align: middle;\n",
              "    }\n",
              "\n",
              "    .dataframe tbody tr th {\n",
              "        vertical-align: top;\n",
              "    }\n",
              "\n",
              "    .dataframe thead th {\n",
              "        text-align: right;\n",
              "    }\n",
              "</style>\n",
              "<table border=\"1\" class=\"dataframe\">\n",
              "  <thead>\n",
              "    <tr style=\"text-align: right;\">\n",
              "      <th></th>\n",
              "      <th>ID</th>\n",
              "      <th>statefip</th>\n",
              "      <th>region</th>\n",
              "      <th>age</th>\n",
              "      <th>minwage</th>\n",
              "      <th>hourwage_final</th>\n",
              "      <th>gender</th>\n",
              "      <th>educ2</th>\n",
              "      <th>hispanic</th>\n",
              "      <th>race</th>\n",
              "      <th>marital</th>\n",
              "      <th>veteran</th>\n",
              "      <th>mw_indicator</th>\n",
              "      <th>rural3</th>\n",
              "    </tr>\n",
              "  </thead>\n",
              "  <tbody>\n",
              "    <tr>\n",
              "      <th>0</th>\n",
              "      <td>2004.0</td>\n",
              "      <td>36.0</td>\n",
              "      <td>12.0</td>\n",
              "      <td>20.0</td>\n",
              "      <td>5.0</td>\n",
              "      <td>7.500000</td>\n",
              "      <td>0.0</td>\n",
              "      <td>3.0</td>\n",
              "      <td>0.0</td>\n",
              "      <td>1.0</td>\n",
              "      <td>0.0</td>\n",
              "      <td>0.0</td>\n",
              "      <td>0.0</td>\n",
              "      <td>1.0</td>\n",
              "    </tr>\n",
              "    <tr>\n",
              "      <th>1</th>\n",
              "      <td>1989.0</td>\n",
              "      <td>26.0</td>\n",
              "      <td>21.0</td>\n",
              "      <td>55.0</td>\n",
              "      <td>3.0</td>\n",
              "      <td>10.000000</td>\n",
              "      <td>1.0</td>\n",
              "      <td>1.0</td>\n",
              "      <td>0.0</td>\n",
              "      <td>1.0</td>\n",
              "      <td>1.0</td>\n",
              "      <td>0.0</td>\n",
              "      <td>0.0</td>\n",
              "      <td>2.0</td>\n",
              "    </tr>\n",
              "    <tr>\n",
              "      <th>2</th>\n",
              "      <td>2005.0</td>\n",
              "      <td>34.0</td>\n",
              "      <td>12.0</td>\n",
              "      <td>39.0</td>\n",
              "      <td>5.0</td>\n",
              "      <td>30.868422</td>\n",
              "      <td>0.0</td>\n",
              "      <td>4.0</td>\n",
              "      <td>0.0</td>\n",
              "      <td>1.0</td>\n",
              "      <td>1.0</td>\n",
              "      <td>0.0</td>\n",
              "      <td>0.0</td>\n",
              "      <td>3.0</td>\n",
              "    </tr>\n",
              "    <tr>\n",
              "      <th>3</th>\n",
              "      <td>2019.0</td>\n",
              "      <td>39.0</td>\n",
              "      <td>21.0</td>\n",
              "      <td>24.0</td>\n",
              "      <td>9.0</td>\n",
              "      <td>15.000000</td>\n",
              "      <td>1.0</td>\n",
              "      <td>2.0</td>\n",
              "      <td>0.0</td>\n",
              "      <td>1.0</td>\n",
              "      <td>0.0</td>\n",
              "      <td>0.0</td>\n",
              "      <td>0.0</td>\n",
              "      <td>3.0</td>\n",
              "    </tr>\n",
              "    <tr>\n",
              "      <th>4</th>\n",
              "      <td>1992.0</td>\n",
              "      <td>6.0</td>\n",
              "      <td>42.0</td>\n",
              "      <td>34.0</td>\n",
              "      <td>4.0</td>\n",
              "      <td>11.250000</td>\n",
              "      <td>1.0</td>\n",
              "      <td>4.0</td>\n",
              "      <td>0.0</td>\n",
              "      <td>1.0</td>\n",
              "      <td>0.0</td>\n",
              "      <td>0.0</td>\n",
              "      <td>0.0</td>\n",
              "      <td>3.0</td>\n",
              "    </tr>\n",
              "  </tbody>\n",
              "</table>\n",
              "</div>\n",
              "      <button class=\"colab-df-convert\" onclick=\"convertToInteractive('df-b4bacdd8-c0bd-4406-8016-cbc6d551ceaf')\"\n",
              "              title=\"Convert this dataframe to an interactive table.\"\n",
              "              style=\"display:none;\">\n",
              "        \n",
              "  <svg xmlns=\"http://www.w3.org/2000/svg\" height=\"24px\"viewBox=\"0 0 24 24\"\n",
              "       width=\"24px\">\n",
              "    <path d=\"M0 0h24v24H0V0z\" fill=\"none\"/>\n",
              "    <path d=\"M18.56 5.44l.94 2.06.94-2.06 2.06-.94-2.06-.94-.94-2.06-.94 2.06-2.06.94zm-11 1L8.5 8.5l.94-2.06 2.06-.94-2.06-.94L8.5 2.5l-.94 2.06-2.06.94zm10 10l.94 2.06.94-2.06 2.06-.94-2.06-.94-.94-2.06-.94 2.06-2.06.94z\"/><path d=\"M17.41 7.96l-1.37-1.37c-.4-.4-.92-.59-1.43-.59-.52 0-1.04.2-1.43.59L10.3 9.45l-7.72 7.72c-.78.78-.78 2.05 0 2.83L4 21.41c.39.39.9.59 1.41.59.51 0 1.02-.2 1.41-.59l7.78-7.78 2.81-2.81c.8-.78.8-2.07 0-2.86zM5.41 20L4 18.59l7.72-7.72 1.47 1.35L5.41 20z\"/>\n",
              "  </svg>\n",
              "      </button>\n",
              "      \n",
              "  <style>\n",
              "    .colab-df-container {\n",
              "      display:flex;\n",
              "      flex-wrap:wrap;\n",
              "      gap: 12px;\n",
              "    }\n",
              "\n",
              "    .colab-df-convert {\n",
              "      background-color: #E8F0FE;\n",
              "      border: none;\n",
              "      border-radius: 50%;\n",
              "      cursor: pointer;\n",
              "      display: none;\n",
              "      fill: #1967D2;\n",
              "      height: 32px;\n",
              "      padding: 0 0 0 0;\n",
              "      width: 32px;\n",
              "    }\n",
              "\n",
              "    .colab-df-convert:hover {\n",
              "      background-color: #E2EBFA;\n",
              "      box-shadow: 0px 1px 2px rgba(60, 64, 67, 0.3), 0px 1px 3px 1px rgba(60, 64, 67, 0.15);\n",
              "      fill: #174EA6;\n",
              "    }\n",
              "\n",
              "    [theme=dark] .colab-df-convert {\n",
              "      background-color: #3B4455;\n",
              "      fill: #D2E3FC;\n",
              "    }\n",
              "\n",
              "    [theme=dark] .colab-df-convert:hover {\n",
              "      background-color: #434B5C;\n",
              "      box-shadow: 0px 1px 3px 1px rgba(0, 0, 0, 0.15);\n",
              "      filter: drop-shadow(0px 1px 2px rgba(0, 0, 0, 0.3));\n",
              "      fill: #FFFFFF;\n",
              "    }\n",
              "  </style>\n",
              "\n",
              "      <script>\n",
              "        const buttonEl =\n",
              "          document.querySelector('#df-b4bacdd8-c0bd-4406-8016-cbc6d551ceaf button.colab-df-convert');\n",
              "        buttonEl.style.display =\n",
              "          google.colab.kernel.accessAllowed ? 'block' : 'none';\n",
              "\n",
              "        async function convertToInteractive(key) {\n",
              "          const element = document.querySelector('#df-b4bacdd8-c0bd-4406-8016-cbc6d551ceaf');\n",
              "          const dataTable =\n",
              "            await google.colab.kernel.invokeFunction('convertToInteractive',\n",
              "                                                     [key], {});\n",
              "          if (!dataTable) return;\n",
              "\n",
              "          const docLinkHtml = 'Like what you see? Visit the ' +\n",
              "            '<a target=\"_blank\" href=https://colab.research.google.com/notebooks/data_table.ipynb>data table notebook</a>'\n",
              "            + ' to learn more about interactive tables.';\n",
              "          element.innerHTML = '';\n",
              "          dataTable['output_type'] = 'display_data';\n",
              "          await google.colab.output.renderOutput(dataTable, element);\n",
              "          const docLink = document.createElement('div');\n",
              "          docLink.innerHTML = docLinkHtml;\n",
              "          element.appendChild(docLink);\n",
              "        }\n",
              "      </script>\n",
              "    </div>\n",
              "  </div>\n",
              "  "
            ]
          },
          "metadata": {},
          "execution_count": 78
        }
      ]
    },
    {
      "cell_type": "markdown",
      "source": [
        "* **Splitting train and test data**"
      ],
      "metadata": {
        "id": "HNsgp9MeB1Dn"
      }
    },
    {
      "cell_type": "code",
      "source": [
        "from sklearn.model_selection import train_test_split\n",
        "\n",
        "X = df.drop(['mw_indicator'], axis=1)\n",
        "y = df[[\"mw_indicator\"]]\n",
        "\n",
        "X_train, X_test, y_train, y_test = train_test_split(X,y, test_size = 0.3)"
      ],
      "metadata": {
        "id": "5iYbgSGdB37-"
      },
      "execution_count": 80,
      "outputs": []
    },
    {
      "cell_type": "code",
      "source": [
        "train.shape"
      ],
      "metadata": {
        "colab": {
          "base_uri": "https://localhost:8080/",
          "height": 0
        },
        "id": "2aCuoR4rCYMv",
        "outputId": "53c61047-0cc7-45c4-930e-f2bff2fa0d1d"
      },
      "execution_count": 31,
      "outputs": [
        {
          "output_type": "execute_result",
          "data": {
            "text/plain": [
              "(65597, 13)"
            ]
          },
          "metadata": {},
          "execution_count": 31
        }
      ]
    },
    {
      "cell_type": "markdown",
      "source": [
        "# **Classifiers with default values**"
      ],
      "metadata": {
        "id": "-7QBU_GWChIW"
      }
    },
    {
      "cell_type": "code",
      "source": [
        "# Pipeline, Gridsearch, train_test_split\n",
        "from sklearn.preprocessing import StandardScaler\n",
        "from sklearn.pipeline import Pipeline\n",
        "from sklearn.model_selection import GridSearchCV\n",
        "\n",
        "# Plot the confusion matrix at the end of the tutorial\n",
        "from sklearn.metrics import plot_confusion_matrix\n",
        "from sklearn.metrics import roc_auc_score\n",
        "from sklearn.metrics import roc_curve\n",
        "\n",
        "# Classification Models\n",
        "from sklearn import svm\n",
        "from sklearn.neural_network import MLPClassifier\n",
        "from sklearn.neighbors import KNeighborsClassifier\n",
        "\n",
        "# fix random seed for reproducibility\n",
        "random_state = np.random.seed(5)"
      ],
      "metadata": {
        "id": "edMlY3unCb_-"
      },
      "execution_count": 81,
      "outputs": []
    },
    {
      "cell_type": "markdown",
      "source": [
        "* **Default values of ANN, KNN, SVM**"
      ],
      "metadata": {
        "id": "AgfT5KlSS0Za"
      }
    },
    {
      "cell_type": "code",
      "source": [
        "#making a list of classifiers\n",
        "classifiers = [KNeighborsClassifier(),\n",
        "               svm.SVC(kernel= 'linear', random_state=random_state, probability=True),\n",
        "               MLPClassifier()]\n",
        "\n",
        "#making a results table to store the accuracy values\n",
        "results_table = pd.DataFrame(columns=['classifiers', 'FPR','TPR','AUC', 'precision', 'recall', 'f1', \n",
        "                                      'avgprecision', 'avgrecall', 'test_mse', 'train_mse'])\n",
        "\n",
        "for cls in classifiers:\n",
        "    model = cls.fit(X_train, y_train)\n",
        "    yproba = model.predict_proba(X_test)[::,1]\n",
        "    fpr, tpr, _ = roc_curve(y_test,  yproba)\n",
        "    test_mse = mean_squared_error(y_test,yproba)\n",
        "    xproba = model.predict(X_train)\n",
        "    train_mse = mean_squared_error(y_train,xproba)\n",
        "    avgprecision = average_precision_score(y_test,  yproba)\n",
        "    auc = roc_auc_score(y_test, yproba)\n",
        "    precision, recall, threshold = precision_recall_curve(y_test,  yproba)\n",
        "    results_table = results_table.append({'classifiers':cls.__class__.__name__,\n",
        "                                        'FPR':fpr, \n",
        "                                        'TPR':tpr, \n",
        "                                        'AUC':auc,\n",
        "                                        'precision': precision, \n",
        "                                        'recall': recall, \n",
        "                                        'f1': f1, \n",
        "                                        'test_mse': test_mse, \n",
        "                                        'train_mse': train_mse}, ignore_index=True)\n",
        "\n",
        "#making the table look (somewhat) pretty\n",
        "results_table.set_index('classifiers', inplace=True)\n",
        "results_table.rename({'KNeighborsClassifier': 'K-Nearest Neighbor',\n",
        "                      'svm.SVC': 'Support Vector Machine',\n",
        "                      'MLPClassifier': 'Artificial Neural Networks'}, inplace=True)\n",
        "\n",
        "Default_Accuracy = print(results_table)\n",
        "Default_Accuracy"
      ],
      "metadata": {
        "id": "SLUR3HgpL7iN",
        "colab": {
          "base_uri": "https://localhost:8080/",
          "height": 0
        },
        "outputId": "caad9153-8be8-48e1-d1fb-fb4fbb7fe2fb"
      },
      "execution_count": 82,
      "outputs": [
        {
          "output_type": "stream",
          "name": "stderr",
          "text": [
            "/usr/local/lib/python3.7/dist-packages/sklearn/neighbors/_classification.py:198: DataConversionWarning: A column-vector y was passed when a 1d array was expected. Please change the shape of y to (n_samples,), for example using ravel().\n",
            "  return self._fit(X, y)\n",
            "/usr/local/lib/python3.7/dist-packages/sklearn/utils/validation.py:993: DataConversionWarning: A column-vector y was passed when a 1d array was expected. Please change the shape of y to (n_samples, ), for example using ravel().\n",
            "  y = column_or_1d(y, warn=True)\n",
            "/usr/local/lib/python3.7/dist-packages/sklearn/neural_network/_multilayer_perceptron.py:1109: DataConversionWarning: A column-vector y was passed when a 1d array was expected. Please change the shape of y to (n_samples, ), for example using ravel().\n",
            "  y = column_or_1d(y, warn=True)\n"
          ]
        },
        {
          "output_type": "stream",
          "name": "stdout",
          "text": [
            "                                                                          FPR  \\\n",
            "classifiers                                                                     \n",
            "K-Nearest Neighbor          [0.0, 0.0007078810759792355, 0.003971999370772...   \n",
            "SVC                         [0.0, 0.0, 0.0, 0.0, 0.0, 0.0, 0.0, 0.0, 0.0, ...   \n",
            "Artificial Neural Networks  [0.0, 0.0, 0.0, 0.0, 0.0, 0.0, 0.0, 0.0, 0.0, ...   \n",
            "\n",
            "                                                                          TPR  \\\n",
            "classifiers                                                                     \n",
            "K-Nearest Neighbor          [0.0, 0.33581533879374537, 0.5197319434102755,...   \n",
            "SVC                         [0.0, 0.6876396128071481, 0.7498138495904692, ...   \n",
            "Artificial Neural Networks  [0.0, 0.03164556962025317, 0.03313477289650037...   \n",
            "\n",
            "                                 AUC  \\\n",
            "classifiers                            \n",
            "K-Nearest Neighbor          0.963536   \n",
            "SVC                         0.999821   \n",
            "Artificial Neural Networks  0.999955   \n",
            "\n",
            "                                                                    precision  \\\n",
            "classifiers                                                                     \n",
            "K-Nearest Neighbor          [0.09553958881695952, 0.554834523036989, 0.712...   \n",
            "SVC                         [0.8080625752105897, 0.8080048149262714, 0.808...   \n",
            "Artificial Neural Networks  [0.8647778493238892, 0.8647342995169082, 0.865...   \n",
            "\n",
            "                                                                       recall  \\\n",
            "classifiers                                                                     \n",
            "K-Nearest Neighbor          [1.0, 0.9549516008935219, 0.8466120625465376, ...   \n",
            "SVC                         [1.0, 0.9996276991809382, 0.9996276991809382, ...   \n",
            "Artificial Neural Networks  [1.0, 0.9996276991809382, 0.9996276991809382, ...   \n",
            "\n",
            "                                  f1  avgprecision  avgrecall  test_mse  \\\n",
            "classifiers                                                               \n",
            "K-Nearest Neighbor          0.996016           NaN        NaN  0.029979   \n",
            "SVC                         0.996016           NaN        NaN  0.003036   \n",
            "Artificial Neural Networks  0.996016           NaN        NaN  0.006834   \n",
            "\n",
            "                            train_mse  \n",
            "classifiers                            \n",
            "K-Nearest Neighbor           0.025519  \n",
            "SVC                          0.003247  \n",
            "Artificial Neural Networks   0.011662  \n"
          ]
        }
      ]
    },
    {
      "cell_type": "markdown",
      "source": [
        "*Plotting ROC/AUC curve*"
      ],
      "metadata": {
        "id": "ujn19H6sTP0i"
      }
    },
    {
      "cell_type": "code",
      "source": [
        "figure = plt.figure(figsize=(8,6))\n",
        "\n",
        "for i in results_table.index:\n",
        "    plt.plot(results_table.loc[i]['FPR'], \n",
        "             results_table.loc[i]['TPR'], \n",
        "             label=\"{}, AUC={:.4f}\".format(i, results_table.loc[i]['AUC']))\n",
        "    \n",
        "plt.plot([0,1], [0,1], color='orange', linestyle='--')\n",
        "\n",
        "plt.xticks(np.arange(0.0, 1.1, step=0.1))\n",
        "plt.xlabel(\"Flase Positive Rate\", fontsize=15)\n",
        "\n",
        "plt.yticks(np.arange(0.0, 1.1, step=0.1))\n",
        "plt.ylabel(\"True Positive Rate\", fontsize=15)\n",
        "\n",
        "plt.suptitle('Receiver Operating Characteristic (ROC) Curve', fontweight='bold', fontsize=15)\n",
        "plt.title('Using default hyperparameter values', fontweight='bold', fontsize=10)\n",
        "plt.legend(prop={'size':10}, loc='lower right')\n",
        "\n",
        "plt.show() #beautiful graph!"
      ],
      "metadata": {
        "id": "CYtmDFTVMr8l",
        "colab": {
          "base_uri": "https://localhost:8080/",
          "height": 436
        },
        "outputId": "b4eb2d18-9543-4edd-ca33-3a6462d9cff8"
      },
      "execution_count": 83,
      "outputs": [
        {
          "output_type": "display_data",
          "data": {
            "text/plain": [
              "<Figure size 576x432 with 1 Axes>"
            ],
            "image/png": "[encoded data removed]"
          },
          "metadata": {
            "needs_background": "light"
          }
        }
      ]
    },
    {
      "cell_type": "markdown",
      "source": [
        "*Plotting Precision Recall Curve*"
      ],
      "metadata": {
        "id": "d8Dj_9x2TS46"
      }
    },
    {
      "cell_type": "code",
      "source": [
        "from sklearn.metrics import plot_precision_recall_curve\n",
        "\n",
        "figure = plt.figure(figsize=(8,6))\n",
        "\n",
        "for cls in classifiers:\n",
        "  plot_precision_recall_curve(cls, X_test, y_test, ax = plt.gca(), name = cls.__class__.__name__)\n",
        "\n",
        "plt.suptitle('Precision-Recall curve',  fontweight='bold', fontsize=15)\n",
        "plt.title('Using default hyperparameter values', fontsize=10)\n",
        "plt.legend(prop={'size':10}, loc='lower left')"
      ],
      "metadata": {
        "id": "93-K6OMjpuAz",
        "colab": {
          "base_uri": "https://localhost:8080/",
          "height": 576
        },
        "outputId": "9cfd1a28-b616-420e-bda6-6e2b3e0d8ba1"
      },
      "execution_count": 84,
      "outputs": [
        {
          "output_type": "stream",
          "name": "stderr",
          "text": [
            "/usr/local/lib/python3.7/dist-packages/sklearn/utils/deprecation.py:87: FutureWarning: Function plot_precision_recall_curve is deprecated; Function `plot_precision_recall_curve` is deprecated in 1.0 and will be removed in 1.2. Use one of the class methods: PrecisionRecallDisplay.from_predictions or PrecisionRecallDisplay.from_estimator.\n",
            "  warnings.warn(msg, category=FutureWarning)\n",
            "/usr/local/lib/python3.7/dist-packages/sklearn/utils/deprecation.py:87: FutureWarning: Function plot_precision_recall_curve is deprecated; Function `plot_precision_recall_curve` is deprecated in 1.0 and will be removed in 1.2. Use one of the class methods: PrecisionRecallDisplay.from_predictions or PrecisionRecallDisplay.from_estimator.\n",
            "  warnings.warn(msg, category=FutureWarning)\n",
            "/usr/local/lib/python3.7/dist-packages/sklearn/utils/deprecation.py:87: FutureWarning: Function plot_precision_recall_curve is deprecated; Function `plot_precision_recall_curve` is deprecated in 1.0 and will be removed in 1.2. Use one of the class methods: PrecisionRecallDisplay.from_predictions or PrecisionRecallDisplay.from_estimator.\n",
            "  warnings.warn(msg, category=FutureWarning)\n"
          ]
        },
        {
          "output_type": "execute_result",
          "data": {
            "text/plain": [
              "<matplotlib.legend.Legend at 0x7f428cdafc10>"
            ]
          },
          "metadata": {},
          "execution_count": 84
        },
        {
          "output_type": "display_data",
          "data": {
            "text/plain": [
              "<Figure size 576x432 with 1 Axes>"
            ],
            "image/png": "[encoded data removed]"
          },
          "metadata": {
            "needs_background": "light"
          }
        }
      ]
    },
    {
      "cell_type": "markdown",
      "source": [
        "# **Tuning Hyperparameters**\n",
        "Given that this process was very time consuming (upwards of 6 hours), the tuned hyperparameters were obtained from several runs of this notebook."
      ],
      "metadata": {
        "id": "DmTJi6bOGC2V"
      }
    },
    {
      "cell_type": "code",
      "execution_count": null,
      "metadata": {
        "id": "WXTbMfDW90Gn"
      },
      "outputs": [],
      "source": [
        "from sklearn.neural_network import MLPClassifier\n",
        "pipe_knn = Pipeline([('scl', StandardScaler()),\n",
        "                    ('KNN', KNeighborsClassifier())])\n",
        "pipe_ann = Pipeline([('scl', StandardScaler()),\n",
        "                     ('ANN', MLPClassifier(random_state=random_state, max_iter=300))])\n",
        "pipe_svm = Pipeline([('scl', StandardScaler()),\n",
        "                     ('SVM', svm.SVC(random_state=random_state))])"
      ]
    },
    {
      "cell_type": "code",
      "execution_count": null,
      "metadata": {
        "id": "EQcBrmt--AuX"
      },
      "outputs": [],
      "source": [
        "#parameter grids\n",
        "layers = [(500, 400, 300, 100), (400, 400, 400, 100), (300, 200, 300, 100)]\n",
        "alpha = [0.0001, 0.001]\n",
        "activation = ['tanh', 'relu']\n",
        "\n",
        "knn_param_grid = [{'KNN__n_neighbors': [1, 2, 3, 4, 5],\n",
        "                   'KNN__weights': ['uniform', 'distance'],\n",
        "                   'KNN__metric': ['euclidean','manhattan']}]\n",
        "\n",
        "ann_param_grid = [{'ANN__hidden_layer_sizes': layers, \n",
        "                   'ANN__alpha': alpha, \n",
        "                   'ANN__activation': activation}]\n",
        "\n",
        "svm_param_grid = [{'SVM__C': [1,2,3,4,5], \n",
        "                   'SVM__kernel': ['linear','rbf', 'sigmoid']}]\n",
        "\n",
        "knn_grid_search = GridSearchCV(estimator=pipe_knn,\n",
        "        param_grid=knn_param_grid,\n",
        "        scoring='f1_micro', \n",
        "        verbose = 1,\n",
        "        cv=3)\n",
        "  \n",
        "ann_grid_search = GridSearchCV(estimator=pipe_ann,\n",
        "        param_grid=ann_param_grid,\n",
        "        scoring='average_precision',\n",
        "        verbose = 1,\n",
        "        cv=3)\n",
        "\n",
        "svm_grid_search = GridSearchCV(estimator=pipe_ann,\n",
        "        param_grid=svm_param_grid,\n",
        "        scoring='average_precision',\n",
        "        verbose = 1,\n",
        "        cv=3)"
      ]
    },
    {
      "cell_type": "code",
      "execution_count": null,
      "metadata": {
        "colab": {
          "base_uri": "https://localhost:8080/",
          "height": 1000
        },
        "id": "UJLGJin7-C2z",
        "outputId": "4c5a4943-78e8-4c9a-f8a3-1cd3af1823e9"
      },
      "outputs": [
        {
          "output_type": "stream",
          "name": "stdout",
          "text": [
            "Fitting 3 folds for each of 10 candidates, totalling 30 fits\n"
          ]
        },
        {
          "output_type": "stream",
          "name": "stderr",
          "text": [
            "/usr/local/lib/python3.7/dist-packages/sklearn/neighbors/_classification.py:198: DataConversionWarning: A column-vector y was passed when a 1d array was expected. Please change the shape of y to (n_samples,), for example using ravel().\n",
            "  return self._fit(X, y)\n",
            "/usr/local/lib/python3.7/dist-packages/sklearn/neighbors/_classification.py:198: DataConversionWarning: A column-vector y was passed when a 1d array was expected. Please change the shape of y to (n_samples,), for example using ravel().\n",
            "  return self._fit(X, y)\n",
            "/usr/local/lib/python3.7/dist-packages/sklearn/neighbors/_classification.py:198: DataConversionWarning: A column-vector y was passed when a 1d array was expected. Please change the shape of y to (n_samples,), for example using ravel().\n",
            "  return self._fit(X, y)\n",
            "/usr/local/lib/python3.7/dist-packages/sklearn/neighbors/_classification.py:198: DataConversionWarning: A column-vector y was passed when a 1d array was expected. Please change the shape of y to (n_samples,), for example using ravel().\n",
            "  return self._fit(X, y)\n",
            "/usr/local/lib/python3.7/dist-packages/sklearn/neighbors/_classification.py:198: DataConversionWarning: A column-vector y was passed when a 1d array was expected. Please change the shape of y to (n_samples,), for example using ravel().\n",
            "  return self._fit(X, y)\n",
            "/usr/local/lib/python3.7/dist-packages/sklearn/neighbors/_classification.py:198: DataConversionWarning: A column-vector y was passed when a 1d array was expected. Please change the shape of y to (n_samples,), for example using ravel().\n",
            "  return self._fit(X, y)\n",
            "/usr/local/lib/python3.7/dist-packages/sklearn/neighbors/_classification.py:198: DataConversionWarning: A column-vector y was passed when a 1d array was expected. Please change the shape of y to (n_samples,), for example using ravel().\n",
            "  return self._fit(X, y)\n",
            "/usr/local/lib/python3.7/dist-packages/sklearn/neighbors/_classification.py:198: DataConversionWarning: A column-vector y was passed when a 1d array was expected. Please change the shape of y to (n_samples,), for example using ravel().\n",
            "  return self._fit(X, y)\n",
            "/usr/local/lib/python3.7/dist-packages/sklearn/neighbors/_classification.py:198: DataConversionWarning: A column-vector y was passed when a 1d array was expected. Please change the shape of y to (n_samples,), for example using ravel().\n",
            "  return self._fit(X, y)\n",
            "/usr/local/lib/python3.7/dist-packages/sklearn/neighbors/_classification.py:198: DataConversionWarning: A column-vector y was passed when a 1d array was expected. Please change the shape of y to (n_samples,), for example using ravel().\n",
            "  return self._fit(X, y)\n",
            "/usr/local/lib/python3.7/dist-packages/sklearn/neighbors/_classification.py:198: DataConversionWarning: A column-vector y was passed when a 1d array was expected. Please change the shape of y to (n_samples,), for example using ravel().\n",
            "  return self._fit(X, y)\n",
            "/usr/local/lib/python3.7/dist-packages/sklearn/neighbors/_classification.py:198: DataConversionWarning: A column-vector y was passed when a 1d array was expected. Please change the shape of y to (n_samples,), for example using ravel().\n",
            "  return self._fit(X, y)\n",
            "/usr/local/lib/python3.7/dist-packages/sklearn/neighbors/_classification.py:198: DataConversionWarning: A column-vector y was passed when a 1d array was expected. Please change the shape of y to (n_samples,), for example using ravel().\n",
            "  return self._fit(X, y)\n",
            "/usr/local/lib/python3.7/dist-packages/sklearn/neighbors/_classification.py:198: DataConversionWarning: A column-vector y was passed when a 1d array was expected. Please change the shape of y to (n_samples,), for example using ravel().\n",
            "  return self._fit(X, y)\n",
            "/usr/local/lib/python3.7/dist-packages/sklearn/neighbors/_classification.py:198: DataConversionWarning: A column-vector y was passed when a 1d array was expected. Please change the shape of y to (n_samples,), for example using ravel().\n",
            "  return self._fit(X, y)\n",
            "/usr/local/lib/python3.7/dist-packages/sklearn/neighbors/_classification.py:198: DataConversionWarning: A column-vector y was passed when a 1d array was expected. Please change the shape of y to (n_samples,), for example using ravel().\n",
            "  return self._fit(X, y)\n",
            "/usr/local/lib/python3.7/dist-packages/sklearn/neighbors/_classification.py:198: DataConversionWarning: A column-vector y was passed when a 1d array was expected. Please change the shape of y to (n_samples,), for example using ravel().\n",
            "  return self._fit(X, y)\n",
            "/usr/local/lib/python3.7/dist-packages/sklearn/neighbors/_classification.py:198: DataConversionWarning: A column-vector y was passed when a 1d array was expected. Please change the shape of y to (n_samples,), for example using ravel().\n",
            "  return self._fit(X, y)\n",
            "/usr/local/lib/python3.7/dist-packages/sklearn/neighbors/_classification.py:198: DataConversionWarning: A column-vector y was passed when a 1d array was expected. Please change the shape of y to (n_samples,), for example using ravel().\n",
            "  return self._fit(X, y)\n",
            "/usr/local/lib/python3.7/dist-packages/sklearn/neighbors/_classification.py:198: DataConversionWarning: A column-vector y was passed when a 1d array was expected. Please change the shape of y to (n_samples,), for example using ravel().\n",
            "  return self._fit(X, y)\n",
            "/usr/local/lib/python3.7/dist-packages/sklearn/neighbors/_classification.py:198: DataConversionWarning: A column-vector y was passed when a 1d array was expected. Please change the shape of y to (n_samples,), for example using ravel().\n",
            "  return self._fit(X, y)\n",
            "/usr/local/lib/python3.7/dist-packages/sklearn/neighbors/_classification.py:198: DataConversionWarning: A column-vector y was passed when a 1d array was expected. Please change the shape of y to (n_samples,), for example using ravel().\n",
            "  return self._fit(X, y)\n",
            "/usr/local/lib/python3.7/dist-packages/sklearn/neighbors/_classification.py:198: DataConversionWarning: A column-vector y was passed when a 1d array was expected. Please change the shape of y to (n_samples,), for example using ravel().\n",
            "  return self._fit(X, y)\n",
            "/usr/local/lib/python3.7/dist-packages/sklearn/neighbors/_classification.py:198: DataConversionWarning: A column-vector y was passed when a 1d array was expected. Please change the shape of y to (n_samples,), for example using ravel().\n",
            "  return self._fit(X, y)\n",
            "/usr/local/lib/python3.7/dist-packages/sklearn/neighbors/_classification.py:198: DataConversionWarning: A column-vector y was passed when a 1d array was expected. Please change the shape of y to (n_samples,), for example using ravel().\n",
            "  return self._fit(X, y)\n",
            "/usr/local/lib/python3.7/dist-packages/sklearn/neighbors/_classification.py:198: DataConversionWarning: A column-vector y was passed when a 1d array was expected. Please change the shape of y to (n_samples,), for example using ravel().\n",
            "  return self._fit(X, y)\n",
            "/usr/local/lib/python3.7/dist-packages/sklearn/neighbors/_classification.py:198: DataConversionWarning: A column-vector y was passed when a 1d array was expected. Please change the shape of y to (n_samples,), for example using ravel().\n",
            "  return self._fit(X, y)\n",
            "/usr/local/lib/python3.7/dist-packages/sklearn/neighbors/_classification.py:198: DataConversionWarning: A column-vector y was passed when a 1d array was expected. Please change the shape of y to (n_samples,), for example using ravel().\n",
            "  return self._fit(X, y)\n",
            "/usr/local/lib/python3.7/dist-packages/sklearn/neighbors/_classification.py:198: DataConversionWarning: A column-vector y was passed when a 1d array was expected. Please change the shape of y to (n_samples,), for example using ravel().\n",
            "  return self._fit(X, y)\n",
            "/usr/local/lib/python3.7/dist-packages/sklearn/neighbors/_classification.py:198: DataConversionWarning: A column-vector y was passed when a 1d array was expected. Please change the shape of y to (n_samples,), for example using ravel().\n",
            "  return self._fit(X, y)\n",
            "/usr/local/lib/python3.7/dist-packages/sklearn/neighbors/_classification.py:198: DataConversionWarning: A column-vector y was passed when a 1d array was expected. Please change the shape of y to (n_samples,), for example using ravel().\n",
            "  return self._fit(X, y)\n"
          ]
        },
        {
          "output_type": "stream",
          "name": "stdout",
          "text": [
            "Fitting 3 folds for each of 12 candidates, totalling 36 fits\n"
          ]
        },
        {
          "output_type": "stream",
          "name": "stderr",
          "text": [
            "/usr/local/lib/python3.7/dist-packages/sklearn/neural_network/_multilayer_perceptron.py:1109: DataConversionWarning: A column-vector y was passed when a 1d array was expected. Please change the shape of y to (n_samples, ), for example using ravel().\n",
            "  y = column_or_1d(y, warn=True)\n",
            "/usr/local/lib/python3.7/dist-packages/sklearn/neural_network/_multilayer_perceptron.py:1109: DataConversionWarning: A column-vector y was passed when a 1d array was expected. Please change the shape of y to (n_samples, ), for example using ravel().\n",
            "  y = column_or_1d(y, warn=True)\n",
            "/usr/local/lib/python3.7/dist-packages/sklearn/neural_network/_multilayer_perceptron.py:1109: DataConversionWarning: A column-vector y was passed when a 1d array was expected. Please change the shape of y to (n_samples, ), for example using ravel().\n",
            "  y = column_or_1d(y, warn=True)\n",
            "/usr/local/lib/python3.7/dist-packages/sklearn/neural_network/_multilayer_perceptron.py:1109: DataConversionWarning: A column-vector y was passed when a 1d array was expected. Please change the shape of y to (n_samples, ), for example using ravel().\n",
            "  y = column_or_1d(y, warn=True)\n",
            "/usr/local/lib/python3.7/dist-packages/sklearn/neural_network/_multilayer_perceptron.py:1109: DataConversionWarning: A column-vector y was passed when a 1d array was expected. Please change the shape of y to (n_samples, ), for example using ravel().\n",
            "  y = column_or_1d(y, warn=True)\n",
            "/usr/local/lib/python3.7/dist-packages/sklearn/neural_network/_multilayer_perceptron.py:1109: DataConversionWarning: A column-vector y was passed when a 1d array was expected. Please change the shape of y to (n_samples, ), for example using ravel().\n",
            "  y = column_or_1d(y, warn=True)\n",
            "/usr/local/lib/python3.7/dist-packages/sklearn/neural_network/_multilayer_perceptron.py:1109: DataConversionWarning: A column-vector y was passed when a 1d array was expected. Please change the shape of y to (n_samples, ), for example using ravel().\n",
            "  y = column_or_1d(y, warn=True)\n",
            "/usr/local/lib/python3.7/dist-packages/sklearn/neural_network/_multilayer_perceptron.py:1109: DataConversionWarning: A column-vector y was passed when a 1d array was expected. Please change the shape of y to (n_samples, ), for example using ravel().\n",
            "  y = column_or_1d(y, warn=True)\n",
            "/usr/local/lib/python3.7/dist-packages/sklearn/neural_network/_multilayer_perceptron.py:1109: DataConversionWarning: A column-vector y was passed when a 1d array was expected. Please change the shape of y to (n_samples, ), for example using ravel().\n",
            "  y = column_or_1d(y, warn=True)\n",
            "/usr/local/lib/python3.7/dist-packages/sklearn/neural_network/_multilayer_perceptron.py:1109: DataConversionWarning: A column-vector y was passed when a 1d array was expected. Please change the shape of y to (n_samples, ), for example using ravel().\n",
            "  y = column_or_1d(y, warn=True)\n",
            "/usr/local/lib/python3.7/dist-packages/sklearn/neural_network/_multilayer_perceptron.py:1109: DataConversionWarning: A column-vector y was passed when a 1d array was expected. Please change the shape of y to (n_samples, ), for example using ravel().\n",
            "  y = column_or_1d(y, warn=True)\n",
            "/usr/local/lib/python3.7/dist-packages/sklearn/neural_network/_multilayer_perceptron.py:1109: DataConversionWarning: A column-vector y was passed when a 1d array was expected. Please change the shape of y to (n_samples, ), for example using ravel().\n",
            "  y = column_or_1d(y, warn=True)\n",
            "/usr/local/lib/python3.7/dist-packages/sklearn/neural_network/_multilayer_perceptron.py:1109: DataConversionWarning: A column-vector y was passed when a 1d array was expected. Please change the shape of y to (n_samples, ), for example using ravel().\n",
            "  y = column_or_1d(y, warn=True)\n",
            "/usr/local/lib/python3.7/dist-packages/sklearn/neural_network/_multilayer_perceptron.py:1109: DataConversionWarning: A column-vector y was passed when a 1d array was expected. Please change the shape of y to (n_samples, ), for example using ravel().\n",
            "  y = column_or_1d(y, warn=True)\n",
            "/usr/local/lib/python3.7/dist-packages/sklearn/neural_network/_multilayer_perceptron.py:1109: DataConversionWarning: A column-vector y was passed when a 1d array was expected. Please change the shape of y to (n_samples, ), for example using ravel().\n",
            "  y = column_or_1d(y, warn=True)\n",
            "/usr/local/lib/python3.7/dist-packages/sklearn/neural_network/_multilayer_perceptron.py:1109: DataConversionWarning: A column-vector y was passed when a 1d array was expected. Please change the shape of y to (n_samples, ), for example using ravel().\n",
            "  y = column_or_1d(y, warn=True)\n",
            "/usr/local/lib/python3.7/dist-packages/sklearn/neural_network/_multilayer_perceptron.py:1109: DataConversionWarning: A column-vector y was passed when a 1d array was expected. Please change the shape of y to (n_samples, ), for example using ravel().\n",
            "  y = column_or_1d(y, warn=True)\n",
            "/usr/local/lib/python3.7/dist-packages/sklearn/neural_network/_multilayer_perceptron.py:1109: DataConversionWarning: A column-vector y was passed when a 1d array was expected. Please change the shape of y to (n_samples, ), for example using ravel().\n",
            "  y = column_or_1d(y, warn=True)\n",
            "/usr/local/lib/python3.7/dist-packages/sklearn/neural_network/_multilayer_perceptron.py:1109: DataConversionWarning: A column-vector y was passed when a 1d array was expected. Please change the shape of y to (n_samples, ), for example using ravel().\n",
            "  y = column_or_1d(y, warn=True)\n",
            "/usr/local/lib/python3.7/dist-packages/sklearn/neural_network/_multilayer_perceptron.py:1109: DataConversionWarning: A column-vector y was passed when a 1d array was expected. Please change the shape of y to (n_samples, ), for example using ravel().\n",
            "  y = column_or_1d(y, warn=True)\n",
            "/usr/local/lib/python3.7/dist-packages/sklearn/neural_network/_multilayer_perceptron.py:1109: DataConversionWarning: A column-vector y was passed when a 1d array was expected. Please change the shape of y to (n_samples, ), for example using ravel().\n",
            "  y = column_or_1d(y, warn=True)\n",
            "/usr/local/lib/python3.7/dist-packages/sklearn/neural_network/_multilayer_perceptron.py:1109: DataConversionWarning: A column-vector y was passed when a 1d array was expected. Please change the shape of y to (n_samples, ), for example using ravel().\n",
            "  y = column_or_1d(y, warn=True)\n",
            "/usr/local/lib/python3.7/dist-packages/sklearn/neural_network/_multilayer_perceptron.py:1109: DataConversionWarning: A column-vector y was passed when a 1d array was expected. Please change the shape of y to (n_samples, ), for example using ravel().\n",
            "  y = column_or_1d(y, warn=True)\n",
            "/usr/local/lib/python3.7/dist-packages/sklearn/neural_network/_multilayer_perceptron.py:1109: DataConversionWarning: A column-vector y was passed when a 1d array was expected. Please change the shape of y to (n_samples, ), for example using ravel().\n",
            "  y = column_or_1d(y, warn=True)\n",
            "/usr/local/lib/python3.7/dist-packages/sklearn/neural_network/_multilayer_perceptron.py:1109: DataConversionWarning: A column-vector y was passed when a 1d array was expected. Please change the shape of y to (n_samples, ), for example using ravel().\n",
            "  y = column_or_1d(y, warn=True)\n",
            "/usr/local/lib/python3.7/dist-packages/sklearn/neural_network/_multilayer_perceptron.py:1109: DataConversionWarning: A column-vector y was passed when a 1d array was expected. Please change the shape of y to (n_samples, ), for example using ravel().\n",
            "  y = column_or_1d(y, warn=True)\n",
            "/usr/local/lib/python3.7/dist-packages/sklearn/neural_network/_multilayer_perceptron.py:1109: DataConversionWarning: A column-vector y was passed when a 1d array was expected. Please change the shape of y to (n_samples, ), for example using ravel().\n",
            "  y = column_or_1d(y, warn=True)\n",
            "/usr/local/lib/python3.7/dist-packages/sklearn/neural_network/_multilayer_perceptron.py:1109: DataConversionWarning: A column-vector y was passed when a 1d array was expected. Please change the shape of y to (n_samples, ), for example using ravel().\n",
            "  y = column_or_1d(y, warn=True)\n",
            "/usr/local/lib/python3.7/dist-packages/sklearn/neural_network/_multilayer_perceptron.py:1109: DataConversionWarning: A column-vector y was passed when a 1d array was expected. Please change the shape of y to (n_samples, ), for example using ravel().\n",
            "  y = column_or_1d(y, warn=True)\n",
            "/usr/local/lib/python3.7/dist-packages/sklearn/neural_network/_multilayer_perceptron.py:1109: DataConversionWarning: A column-vector y was passed when a 1d array was expected. Please change the shape of y to (n_samples, ), for example using ravel().\n",
            "  y = column_or_1d(y, warn=True)\n",
            "/usr/local/lib/python3.7/dist-packages/sklearn/neural_network/_multilayer_perceptron.py:1109: DataConversionWarning: A column-vector y was passed when a 1d array was expected. Please change the shape of y to (n_samples, ), for example using ravel().\n",
            "  y = column_or_1d(y, warn=True)\n",
            "/usr/local/lib/python3.7/dist-packages/sklearn/neural_network/_multilayer_perceptron.py:1109: DataConversionWarning: A column-vector y was passed when a 1d array was expected. Please change the shape of y to (n_samples, ), for example using ravel().\n",
            "  y = column_or_1d(y, warn=True)\n",
            "/usr/local/lib/python3.7/dist-packages/sklearn/neural_network/_multilayer_perceptron.py:1109: DataConversionWarning: A column-vector y was passed when a 1d array was expected. Please change the shape of y to (n_samples, ), for example using ravel().\n",
            "  y = column_or_1d(y, warn=True)\n",
            "/usr/local/lib/python3.7/dist-packages/sklearn/neural_network/_multilayer_perceptron.py:1109: DataConversionWarning: A column-vector y was passed when a 1d array was expected. Please change the shape of y to (n_samples, ), for example using ravel().\n",
            "  y = column_or_1d(y, warn=True)\n",
            "/usr/local/lib/python3.7/dist-packages/sklearn/neural_network/_multilayer_perceptron.py:1109: DataConversionWarning: A column-vector y was passed when a 1d array was expected. Please change the shape of y to (n_samples, ), for example using ravel().\n",
            "  y = column_or_1d(y, warn=True)\n",
            "/usr/local/lib/python3.7/dist-packages/sklearn/neural_network/_multilayer_perceptron.py:1109: DataConversionWarning: A column-vector y was passed when a 1d array was expected. Please change the shape of y to (n_samples, ), for example using ravel().\n",
            "  y = column_or_1d(y, warn=True)\n",
            "/usr/local/lib/python3.7/dist-packages/sklearn/neural_network/_multilayer_perceptron.py:1109: DataConversionWarning: A column-vector y was passed when a 1d array was expected. Please change the shape of y to (n_samples, ), for example using ravel().\n",
            "  y = column_or_1d(y, warn=True)\n"
          ]
        },
        {
          "output_type": "error",
          "ename": "AttributeError",
          "evalue": "ignored",
          "traceback": [
            "\u001b[0;31m---------------------------------------------------------------------------\u001b[0m",
            "\u001b[0;31mAttributeError\u001b[0m                            Traceback (most recent call last)",
            "\u001b[0;32m<ipython-input-66-e4cfc9a22341>\u001b[0m in \u001b[0;36m<module>\u001b[0;34m()\u001b[0m\n\u001b[1;32m      2\u001b[0m \u001b[0mgrids\u001b[0m \u001b[0;34m=\u001b[0m \u001b[0;34m[\u001b[0m\u001b[0mknn_grid_search\u001b[0m\u001b[0;34m,\u001b[0m \u001b[0mann_grid_search\u001b[0m\u001b[0;34m,\u001b[0m \u001b[0mnb_param_grid\u001b[0m\u001b[0;34m]\u001b[0m\u001b[0;34m\u001b[0m\u001b[0;34m\u001b[0m\u001b[0m\n\u001b[1;32m      3\u001b[0m \u001b[0;32mfor\u001b[0m \u001b[0mpipe\u001b[0m \u001b[0;32min\u001b[0m \u001b[0mgrids\u001b[0m\u001b[0;34m:\u001b[0m\u001b[0;34m\u001b[0m\u001b[0;34m\u001b[0m\u001b[0m\n\u001b[0;32m----> 4\u001b[0;31m     \u001b[0mpipe\u001b[0m\u001b[0;34m.\u001b[0m\u001b[0mfit\u001b[0m\u001b[0;34m(\u001b[0m\u001b[0mX_train\u001b[0m\u001b[0;34m,\u001b[0m\u001b[0my_train\u001b[0m\u001b[0;34m)\u001b[0m\u001b[0;34m\u001b[0m\u001b[0;34m\u001b[0m\u001b[0m\n\u001b[0m",
            "\u001b[0;31mAttributeError\u001b[0m: 'list' object has no attribute 'fit'"
          ]
        }
      ],
      "source": [
        "#grid search (this took 6 hours)\n",
        "grids = [knn_grid_search, ann_grid_search, svm_param_grid]\n",
        "for pipe in grids:\n",
        "    pipe.fit(X_train,y_train)"
      ]
    },
    {
      "cell_type": "code",
      "execution_count": null,
      "metadata": {
        "colab": {
          "base_uri": "https://localhost:8080/",
          "height": 367
        },
        "id": "VV_b-7aSOLpN",
        "outputId": "3e948060-0fe2-44af-aedc-b0e8bc850e49"
      },
      "outputs": [
        {
          "output_type": "stream",
          "name": "stdout",
          "text": [
            "K-Nearest Neighbors Test Accuracy: 0.9117877214199331\n",
            "K-Nearest Neighbors Best Params: {'KNN__metric': 'euclidean', 'KNN__n_neighbors': 5, 'KNN__weights': 'distance'}\n",
            "K-Nearest Neighbors Thresholds: [0. 0. 0. ... 0. 0. 0.]\n",
            "Artificial Neural Networks Test Accuracy: 0.9983205445627432\n",
            "Artificial Neural Networks Best Params: {'ANN__activation': 'tanh', 'ANN__alpha': 0.001, 'ANN__hidden_layer_sizes': (300, 200, 300, 100)}\n",
            "Artificial Neural Networks Thresholds: [0. 0. 0. ... 0. 0. 0.]\n"
          ]
        },
        {
          "output_type": "error",
          "ename": "AttributeError",
          "evalue": "ignored",
          "traceback": [
            "\u001b[0;31m---------------------------------------------------------------------------\u001b[0m",
            "\u001b[0;31mAttributeError\u001b[0m                            Traceback (most recent call last)",
            "\u001b[0;32m<ipython-input-67-ea2ea4d6112d>\u001b[0m in \u001b[0;36m<module>\u001b[0;34m()\u001b[0m\n\u001b[1;32m      3\u001b[0m \u001b[0;32mfor\u001b[0m \u001b[0mi\u001b[0m\u001b[0;34m,\u001b[0m \u001b[0mmodel\u001b[0m \u001b[0;32min\u001b[0m \u001b[0menumerate\u001b[0m\u001b[0;34m(\u001b[0m\u001b[0mgrids\u001b[0m\u001b[0;34m)\u001b[0m\u001b[0;34m:\u001b[0m\u001b[0;34m\u001b[0m\u001b[0;34m\u001b[0m\u001b[0m\n\u001b[1;32m      4\u001b[0m     print('{} Test Accuracy: {}'.format(grid_dict[i],\n\u001b[0;32m----> 5\u001b[0;31m     model.score(X_test,y_test)))\n\u001b[0m\u001b[1;32m      6\u001b[0m     \u001b[0mprint\u001b[0m\u001b[0;34m(\u001b[0m\u001b[0;34m'{} Best Params: {}'\u001b[0m\u001b[0;34m.\u001b[0m\u001b[0mformat\u001b[0m\u001b[0;34m(\u001b[0m\u001b[0mgrid_dict\u001b[0m\u001b[0;34m[\u001b[0m\u001b[0mi\u001b[0m\u001b[0;34m]\u001b[0m\u001b[0;34m,\u001b[0m \u001b[0mmodel\u001b[0m\u001b[0;34m.\u001b[0m\u001b[0mbest_params_\u001b[0m\u001b[0;34m)\u001b[0m\u001b[0;34m)\u001b[0m\u001b[0;34m\u001b[0m\u001b[0;34m\u001b[0m\u001b[0m\n\u001b[1;32m      7\u001b[0m     \u001b[0mprint\u001b[0m\u001b[0;34m(\u001b[0m\u001b[0;34m'{} Thresholds: {}'\u001b[0m\u001b[0;34m.\u001b[0m\u001b[0mformat\u001b[0m\u001b[0;34m(\u001b[0m\u001b[0mgrid_dict\u001b[0m\u001b[0;34m[\u001b[0m\u001b[0mi\u001b[0m\u001b[0;34m]\u001b[0m\u001b[0;34m,\u001b[0m \u001b[0mmodel\u001b[0m\u001b[0;34m.\u001b[0m\u001b[0mpredict\u001b[0m\u001b[0;34m(\u001b[0m\u001b[0mX_test\u001b[0m\u001b[0;34m)\u001b[0m\u001b[0;34m)\u001b[0m\u001b[0;34m)\u001b[0m\u001b[0;34m\u001b[0m\u001b[0;34m\u001b[0m\u001b[0m\n",
            "\u001b[0;31mAttributeError\u001b[0m: 'list' object has no attribute 'score'"
          ]
        }
      ],
      "source": [
        "#best parameters\n",
        "grid_dict = {0:'K-Nearest Neighbors', 1:'Artificial Neural Networks', 2: 'Naive Bayes'}\n",
        "for i, model in enumerate(grids):\n",
        "    print('{} Test Accuracy: {}'.format(grid_dict[i],\n",
        "    model.score(X_test,y_test)))\n",
        "    print('{} Best Params: {}'.format(grid_dict[i], model.best_params_))\n",
        "    print('{} Thresholds: {}'.format(grid_dict[i], model.predict(X_test)))\n"
      ]
    },
    {
      "cell_type": "markdown",
      "source": [
        "\n",
        "* **From run 2**: K-Nearest Neighbors Test Accuracy: 0.9117877214199331\n",
        "K-Nearest Neighbors Best Params: {'KNN__metric': 'euclidean', 'KNN__n_neighbors': 5, 'KNN__weights': 'distance'}\n",
        "K-Nearest Neighbors Thresholds: [0. 0. 0. ... 0. 0. 0.]\n",
        "Artificial Neural Networks Test Accuracy: 0.9983205445627432\n",
        "Artificial Neural Networks Best Params: {'ANN__activation': 'tanh', 'ANN__alpha': 0.001, 'ANN__hidden_layer_sizes': (300, 200, 300, 100)}\n",
        "\n",
        "* **From run 1**: Best parameters: K-Nearest Neighbors Test Accuracy: 0.9489805785523546\n",
        "K-Nearest Neighbors Best Params: {'KNN__metric': 'manhattan', 'KNN__n_neighbors': 4, 'KNN__weights': 'distance'}\n",
        "Support Vector Machines Test Accuracy: 0.9983115018707369\n",
        "Support Vector Machines Best Params: {'SVM__C': 1, 'SVM__kernel': 'linear'}*"
      ],
      "metadata": {
        "id": "b6GIdN0CGg_f"
      }
    },
    {
      "cell_type": "markdown",
      "source": [
        "# **Classifiers with tuned hyperparameters**"
      ],
      "metadata": {
        "id": "dImIYCUHM8em"
      }
    },
    {
      "cell_type": "code",
      "source": [
        "from sklearn import svm\n",
        "knn = KNeighborsClassifier(n_neighbors=5, metric = 'euclidean', weights = 'distance')\n",
        "svm = svm.SVC(kernel = 'linear', C= 1, random_state=random_state, probability=True)\n",
        "ann = MLPClassifier(activation= 'tanh', alpha= 0.001, hidden_layer_sizes= (300, 200, 300, 100), max_iter = 300)\n"
      ],
      "metadata": {
        "id": "pcLI1-ktCzjP"
      },
      "execution_count": 85,
      "outputs": []
    },
    {
      "cell_type": "markdown",
      "source": [
        "* **Tuned values of ANN, KNN, SVM**"
      ],
      "metadata": {
        "id": "CDUw4cAcFBxQ"
      }
    },
    {
      "cell_type": "code",
      "source": [
        "from sklearn.metrics import average_precision_score\n",
        "from sklearn.metrics import mean_squared_error\n",
        "from sklearn.metrics import f1_score\n",
        "from sklearn.metrics import recall_score\n",
        "\n",
        "classifiers = [knn,\n",
        "               svm,\n",
        "               ann]\n",
        "\n",
        "#making a results table to store the accuracy values\n",
        "results_table2 = pd.DataFrame(columns=['classifiers', 'Precision','Recall', 'F1', 'Threshold', 'FPR', 'TPR', 'AUC', 'Train MSE', 'Test MSE'])\n",
        "\n",
        "for cls in classifiers:\n",
        "    model = cls.fit(X_train, y_train)\n",
        "    yproba = model.predict(X_test)\n",
        "    test_mse = mean_squared_error(y_test,yproba)\n",
        "    xproba = model.predict(X_train)\n",
        "    train_mse = mean_squared_error(y_train,xproba)\n",
        "    precision, recall, threshold = precision_recall_curve(y_test,  yproba)\n",
        "    fpr, tpr, _ = roc_curve(y_test,  yproba)\n",
        "    auc = roc_auc_score(y_test, yproba)\n",
        "    f1 = f1_score(y_test, yproba, average = \"micro\")\n",
        "    results_table2 = results_table2.append({'classifiers':cls.__class__.__name__,\n",
        "                                        'Precision': precision, \n",
        "                                        'Recall': recall,\n",
        "                                        'F1': f1,\n",
        "                                        'Threshold': threshold,\n",
        "                                        'FPR': fpr,\n",
        "                                        'TPR': tpr,\n",
        "                                        'avgpr': avgprecision,\n",
        "                                        'avgrecall': avgrecall,\n",
        "                                        'Train MSE': train_mse,\n",
        "                                         'Test MSE': test_mse,\n",
        "                                        'AUC': auc}, ignore_index=True)\n",
        "\n",
        "#making the table look (somewhat) pretty\n",
        "results_table2.set_index('classifiers', inplace=True)\n",
        "results_table2.rename({'pipe_knn': 'K-Nearest Neighbor',\n",
        "                      'pipe_svm': 'Support Vector Machine',\n",
        "                       'pipe_ann': 'Neural Networks'})\n",
        "\n",
        "PrecisionRecall = print(results_table2)\n",
        "PrecisionRecall"
      ],
      "metadata": {
        "id": "iLW_A6hMFgbH",
        "colab": {
          "base_uri": "https://localhost:8080/",
          "height": 0
        },
        "outputId": "61d3f197-5421-44c5-996e-98059c96dc29"
      },
      "execution_count": 86,
      "outputs": [
        {
          "output_type": "stream",
          "name": "stderr",
          "text": [
            "/usr/local/lib/python3.7/dist-packages/sklearn/neighbors/_classification.py:198: DataConversionWarning: A column-vector y was passed when a 1d array was expected. Please change the shape of y to (n_samples,), for example using ravel().\n",
            "  return self._fit(X, y)\n",
            "/usr/local/lib/python3.7/dist-packages/sklearn/utils/validation.py:993: DataConversionWarning: A column-vector y was passed when a 1d array was expected. Please change the shape of y to (n_samples, ), for example using ravel().\n",
            "  y = column_or_1d(y, warn=True)\n",
            "/usr/local/lib/python3.7/dist-packages/sklearn/neural_network/_multilayer_perceptron.py:1109: DataConversionWarning: A column-vector y was passed when a 1d array was expected. Please change the shape of y to (n_samples, ), for example using ravel().\n",
            "  y = column_or_1d(y, warn=True)\n"
          ]
        },
        {
          "output_type": "stream",
          "name": "stdout",
          "text": [
            "                                                           Precision  \\\n",
            "classifiers                                                            \n",
            "KNeighborsClassifier  [0.09553958881695952, 0.8497316636851521, 1.0]   \n",
            "SVC                   [0.09553958881695952, 0.9828358208955223, 1.0]   \n",
            "MLPClassifier                             [0.09553958881695952, 1.0]   \n",
            "\n",
            "                                              Recall        F1   Threshold  \\\n",
            "classifiers                                                                  \n",
            "KNeighborsClassifier  [1.0, 0.7073715562174236, 0.0]  0.960091  [0.0, 1.0]   \n",
            "SVC                   [1.0, 0.9806403574087863, 0.0]  0.996514  [0.0, 1.0]   \n",
            "MLPClassifier                             [1.0, 0.0]  0.904460       [0.0]   \n",
            "\n",
            "                                                    FPR  \\\n",
            "classifiers                                               \n",
            "KNeighborsClassifier   [0.0, 0.013213780084945729, 1.0]   \n",
            "SVC                   [0.0, 0.0018090294163913797, 1.0]   \n",
            "MLPClassifier                                [0.0, 1.0]   \n",
            "\n",
            "                                                 TPR       AUC  Train MSE  \\\n",
            "classifiers                                                                 \n",
            "KNeighborsClassifier  [0.0, 0.7073715562174236, 1.0]  0.847079   0.000000   \n",
            "SVC                   [0.0, 0.9806403574087863, 1.0]  0.989416   0.003247   \n",
            "MLPClassifier                             [0.0, 1.0]  0.500000   0.100447   \n",
            "\n",
            "                      Test MSE     avgpr  avgrecall  \n",
            "classifiers                                          \n",
            "KNeighborsClassifier  0.039909  0.999607   0.990587  \n",
            "SVC                   0.003486  0.999607   0.990587  \n",
            "MLPClassifier         0.095540  0.999607   0.990587  \n"
          ]
        }
      ]
    },
    {
      "cell_type": "markdown",
      "source": [
        "*Plotting ROC curve*"
      ],
      "metadata": {
        "id": "dpVLc0aqFH6f"
      }
    },
    {
      "cell_type": "code",
      "source": [
        "figure = plt.figure(figsize=(8,6))\n",
        "\n",
        "for i in results_table2.index:\n",
        "    plt.plot(results_table2.loc[i]['FPR'], \n",
        "             results_table2.loc[i]['TPR'], \n",
        "             label=\"{}, AUC={:.4f}\".format(i, results_table2.loc[i]['AUC']))\n",
        "    \n",
        "plt.plot([0,1], [0,1], color='orange', linestyle='--')\n",
        "\n",
        "plt.xticks(np.arange(0.0, 1.1, step=0.1))\n",
        "plt.xlabel(\"Flase Positive Rate\", fontsize=15)\n",
        "\n",
        "plt.yticks(np.arange(0.0, 1.1, step=0.1))\n",
        "plt.ylabel(\"True Positive Rate\", fontsize=15)\n",
        "\n",
        "plt.suptitle('Receiver Operating Characteristic (ROC) Curve', fontweight='bold', fontsize=15)\n",
        "plt.title('Using tuned hyperparameter values', fontweight='bold', fontsize=10)\n",
        "plt.legend(prop={'size':10}, loc='lower right')\n",
        "\n",
        "plt.show() #beautiful graph!"
      ],
      "metadata": {
        "colab": {
          "base_uri": "https://localhost:8080/",
          "height": 436
        },
        "id": "qoA8qv7Vd-yW",
        "outputId": "bbe4c81b-04b2-4270-beff-bf00a52e2355"
      },
      "execution_count": 88,
      "outputs": [
        {
          "output_type": "display_data",
          "data": {
            "text/plain": [
              "<Figure size 576x432 with 1 Axes>"
            ],
            "image/png": "[encoded data removed]"
          },
          "metadata": {
            "needs_background": "light"
          }
        }
      ]
    },
    {
      "cell_type": "markdown",
      "source": [
        "*Plotting Precision-Recall curve*"
      ],
      "metadata": {
        "id": "OSpk0L2gFLjy"
      }
    },
    {
      "cell_type": "code",
      "source": [
        "#optimized classifier\n",
        "figure = plt.figure(figsize=(8,6))\n",
        "\n",
        "for cls in classifiers:\n",
        "  plot_precision_recall_curve(cls, X_test, y_test, ax = plt.gca(), name = cls.__class__.__name__)\n",
        "\n",
        "plt.suptitle('Precision-Recall curve',  fontweight='bold', fontsize=15)\n",
        "plt.title('Using tuned hyperparameter values', fontsize=10)\n",
        "plt.legend(prop={'size':10}, loc='lower left')"
      ],
      "metadata": {
        "id": "PAUz9UKkyeiN",
        "colab": {
          "base_uri": "https://localhost:8080/",
          "height": 576
        },
        "outputId": "ab182635-25fc-4227-cebc-c28aff5e49b6"
      },
      "execution_count": 89,
      "outputs": [
        {
          "output_type": "stream",
          "name": "stderr",
          "text": [
            "/usr/local/lib/python3.7/dist-packages/sklearn/utils/deprecation.py:87: FutureWarning: Function plot_precision_recall_curve is deprecated; Function `plot_precision_recall_curve` is deprecated in 1.0 and will be removed in 1.2. Use one of the class methods: PrecisionRecallDisplay.from_predictions or PrecisionRecallDisplay.from_estimator.\n",
            "  warnings.warn(msg, category=FutureWarning)\n",
            "/usr/local/lib/python3.7/dist-packages/sklearn/utils/deprecation.py:87: FutureWarning: Function plot_precision_recall_curve is deprecated; Function `plot_precision_recall_curve` is deprecated in 1.0 and will be removed in 1.2. Use one of the class methods: PrecisionRecallDisplay.from_predictions or PrecisionRecallDisplay.from_estimator.\n",
            "  warnings.warn(msg, category=FutureWarning)\n",
            "/usr/local/lib/python3.7/dist-packages/sklearn/utils/deprecation.py:87: FutureWarning: Function plot_precision_recall_curve is deprecated; Function `plot_precision_recall_curve` is deprecated in 1.0 and will be removed in 1.2. Use one of the class methods: PrecisionRecallDisplay.from_predictions or PrecisionRecallDisplay.from_estimator.\n",
            "  warnings.warn(msg, category=FutureWarning)\n"
          ]
        },
        {
          "output_type": "execute_result",
          "data": {
            "text/plain": [
              "<matplotlib.legend.Legend at 0x7f428cccfd10>"
            ]
          },
          "metadata": {},
          "execution_count": 89
        },
        {
          "output_type": "display_data",
          "data": {
            "text/plain": [
              "<Figure size 576x432 with 1 Axes>"
            ],
            "image/png": "[encoded data removed]"
          },
          "metadata": {
            "needs_background": "light"
          }
        }
      ]
    },
    {
      "cell_type": "markdown",
      "source": [
        "## **Summary**"
      ],
      "metadata": {
        "id": "1JT1UmvUFtFn"
      }
    },
    {
      "cell_type": "code",
      "source": [
        "#for each model\n",
        "from sklearn.metrics import classification_report\n",
        "opt_knn = KNeighborsClassifier(n_neighbors=5, metric = 'euclidean', weights = 'distance')\n",
        "opt_knn = opt_knn.fit(X_train, y_train)\n",
        "yproba = opt_knn.predict(X_test)\n",
        "precision = precision_score(y_test, yproba)\n",
        "recall = recall_score (y_test, yproba)\n",
        "f1 = f1_score(y_test, yproba)\n",
        "test_mse = mean_squared_error(y_test,yproba)\n",
        "xproba = model.predict(X_train)\n",
        "train_mse = mean_squared_error(y_train,xproba)\n",
        "\n",
        "# evaluate the model\n",
        "print('Recall-Score: %.5f' % recall)\n",
        "print('Precision-Score: %.5f'% precision)\n",
        "print('F-Score: %.5f' % f1)\n",
        "print('Test MSE: %.5f' % test_mse)\n",
        "print('Train MSE: %.5f' % train_mse)\n",
        "print(classification_report(y_test, yproba))"
      ],
      "metadata": {
        "colab": {
          "base_uri": "https://localhost:8080/",
          "height": 0
        },
        "id": "gIApVo2SDZyW",
        "outputId": "3157513e-f18a-4e02-9ecf-6aab93cfe2f2"
      },
      "execution_count": 96,
      "outputs": [
        {
          "output_type": "stream",
          "name": "stderr",
          "text": [
            "/usr/local/lib/python3.7/dist-packages/sklearn/neighbors/_classification.py:198: DataConversionWarning: A column-vector y was passed when a 1d array was expected. Please change the shape of y to (n_samples,), for example using ravel().\n",
            "  return self._fit(X, y)\n"
          ]
        },
        {
          "output_type": "stream",
          "name": "stdout",
          "text": [
            "Recall-Score: 0.70737\n",
            "Precision-Score: 0.84973\n",
            "F-Score: 0.77204\n",
            "Test MSE: 0.03991\n",
            "Train MSE: 0.10045\n",
            "              precision    recall  f1-score   support\n",
            "\n",
            "         0.0       0.97      0.99      0.98     25428\n",
            "         1.0       0.85      0.71      0.77      2686\n",
            "\n",
            "    accuracy                           0.96     28114\n",
            "   macro avg       0.91      0.85      0.88     28114\n",
            "weighted avg       0.96      0.96      0.96     28114\n",
            "\n"
          ]
        }
      ]
    },
    {
      "cell_type": "code",
      "source": [
        "from sklearn import svm\n",
        "opt_svm = svm.SVC(kernel = 'linear', C= 1, random_state=random_state, probability=True)\n",
        "opt_svm = opt_svm.fit(X_train, y_train)\n",
        "yproba = opt_svm.predict(X_test)\n",
        "precision = average_precision_score(y_test, yproba)\n",
        "recall = recall_score (y_test, yproba)\n",
        "f1 = f1_score(y_test, yproba)\n",
        "test_mse = mean_squared_error(y_test,yproba)\n",
        "xproba = model.predict(X_train)\n",
        "train_mse = mean_squared_error(y_train,xproba)\n",
        "\n",
        "# evaluate the model\n",
        "print('Recall-Score: %.5f' % recall)\n",
        "print('Precision-Score: %.5f'% precision)\n",
        "print('F-Score: %.5f' % f1)\n",
        "print('Test MSE: %.5f' % test_mse)\n",
        "print('Train MSE: %.5f' % train_mse)\n",
        "print(classification_report(y_test, yproba))"
      ],
      "metadata": {
        "colab": {
          "base_uri": "https://localhost:8080/",
          "height": 0
        },
        "id": "JjJzyDmfD5yS",
        "outputId": "532967db-f2df-431b-edb9-4181329e0ec2"
      },
      "execution_count": 97,
      "outputs": [
        {
          "output_type": "stream",
          "name": "stderr",
          "text": [
            "/usr/local/lib/python3.7/dist-packages/sklearn/utils/validation.py:993: DataConversionWarning: A column-vector y was passed when a 1d array was expected. Please change the shape of y to (n_samples, ), for example using ravel().\n",
            "  y = column_or_1d(y, warn=True)\n"
          ]
        },
        {
          "output_type": "stream",
          "name": "stdout",
          "text": [
            "Recall-Score: 0.98064\n",
            "Precision-Score: 0.96566\n",
            "F-Score: 0.98174\n",
            "Test MSE: 0.00349\n",
            "Train MSE: 0.10045\n",
            "              precision    recall  f1-score   support\n",
            "\n",
            "         0.0       1.00      1.00      1.00     25428\n",
            "         1.0       0.98      0.98      0.98      2686\n",
            "\n",
            "    accuracy                           1.00     28114\n",
            "   macro avg       0.99      0.99      0.99     28114\n",
            "weighted avg       1.00      1.00      1.00     28114\n",
            "\n"
          ]
        }
      ]
    },
    {
      "cell_type": "code",
      "source": [
        "\n",
        "opt_ann = MLPClassifier(activation= 'tanh', alpha= 0.001, hidden_layer_sizes= (300, 200, 300, 100), max_iter = 300)\n",
        "opt_ann = opt_ann.fit(X_train, y_train)\n",
        "yproba = opt_ann.predict(X_test)\n",
        "precision = precision_score(y_test, yproba)\n",
        "recall = recall_score (y_test, yproba)\n",
        "f1 = f1_score(y_test, yproba)\n",
        "test_mse = mean_squared_error(y_test,yproba)\n",
        "xproba = model.predict(X_train)\n",
        "train_mse = mean_squared_error(y_train,xproba)\n",
        "\n",
        "# evaluate the model\n",
        "print('Recall-Score: %.5f' % recall)\n",
        "print('Precision-Score: %.5f'% precision)\n",
        "print('F-Score: %.5f' % f1)\n",
        "print('Test MSE: %.5f' % test_mse)\n",
        "print('Train MSE: %.5f' % train_mse)\n",
        "print(classification_report(y_test, yproba))"
      ],
      "metadata": {
        "colab": {
          "base_uri": "https://localhost:8080/",
          "height": 0
        },
        "id": "QseVJixxEBQG",
        "outputId": "cb5b160e-f9a5-447d-c6d1-b29c629a4c12"
      },
      "execution_count": 98,
      "outputs": [
        {
          "output_type": "stream",
          "name": "stderr",
          "text": [
            "/usr/local/lib/python3.7/dist-packages/sklearn/neural_network/_multilayer_perceptron.py:1109: DataConversionWarning: A column-vector y was passed when a 1d array was expected. Please change the shape of y to (n_samples, ), for example using ravel().\n",
            "  y = column_or_1d(y, warn=True)\n"
          ]
        },
        {
          "output_type": "stream",
          "name": "stdout",
          "text": [
            "Recall-Score: 0.99851\n",
            "Precision-Score: 0.90364\n",
            "F-Score: 0.94871\n",
            "Test MSE: 0.01032\n",
            "Train MSE: 0.10045\n",
            "              precision    recall  f1-score   support\n",
            "\n",
            "         0.0       1.00      0.99      0.99     25428\n",
            "         1.0       0.90      1.00      0.95      2686\n",
            "\n",
            "    accuracy                           0.99     28114\n",
            "   macro avg       0.95      0.99      0.97     28114\n",
            "weighted avg       0.99      0.99      0.99     28114\n",
            "\n"
          ]
        }
      ]
    }
  ]
}